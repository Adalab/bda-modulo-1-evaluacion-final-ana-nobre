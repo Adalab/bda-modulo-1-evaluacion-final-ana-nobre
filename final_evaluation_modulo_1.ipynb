{
 "cells": [
  {
   "cell_type": "code",
   "execution_count": 149,
   "id": "bfa97718",
   "metadata": {},
   "outputs": [],
   "source": [
    "class OnlineShop:\n",
    "  def __init__(self):\n",
    "    self.inventory = []\n",
    "    self.total_sales = 0\n",
    "\n",
    "  def add_product(self, name, price, quantity):\n",
    "    product = {'name': name, 'price': price, 'quantity': quantity}\n",
    "    if not self.inventory:\n",
    "       self.inventory.append(product)\n",
    "       print(\"Product added in inventory:\", product)\n",
    "    else:\n",
    "      for product_in_inventory in self.inventory: \n",
    "        if product_in_inventory['name'] == name:\n",
    "          product_in_inventory['quantity'] = product_in_inventory['quantity']+quantity\n",
    "        else: \n",
    "          self.inventory.append(product)\n",
    "          print(\"Product added in inventory:\", product) \n",
    "\n",
    "  def show_inventory(self):\n",
    "      for product_in_inventory in self.inventory:\n",
    "        #Nombre: Camisa, Precio: $20, Cantidad: 50\n",
    "        print(\"Name:\", product_in_inventory['name'], \"Price\",product_in_inventory['price'], product_in_inventory['quantity'])\n",
    "\n",
    "       \n",
    "  def search_product(self, name):\n",
    "      for product_in_inventory in self.inventory:\n",
    "        if product_in_inventory['name'] == name:\n",
    "         print(\"Name:\", product_in_inventory['name'], \"Price\",product_in_inventory['price'], product_in_inventory['quantity'])\n",
    "\n",
    "\n",
    "\n",
    "\n"
   ]
  },
  {
   "cell_type": "code",
   "execution_count": 155,
   "id": "eef3ff28",
   "metadata": {},
   "outputs": [
    {
     "name": "stdout",
     "output_type": "stream",
     "text": [
      "Inventory Updated: []\n",
      "Product added in inventory: {'name': 'Socks', 'price': 5, 'quantity': 100}\n",
      "Product added in inventory: {'name': 'Shoes', 'price': 35, 'quantity': 78}\n",
      "Product added in inventory: {'name': 'Paints', 'price': 60, 'quantity': 99}\n",
      "Product added in inventory: {'name': 'Paints', 'price': 60, 'quantity': 99}\n",
      "Inventory Updated: [{'name': 'Socks', 'price': 5, 'quantity': 300}, {'name': 'Shoes', 'price': 35, 'quantity': 156}, {'name': 'Paints', 'price': 60, 'quantity': 297}, {'name': 'Paints', 'price': 60, 'quantity': 297}]\n",
      "Name: Socks Price 5 300\n",
      "Name: Shoes Price 35 156\n",
      "Name: Paints Price 60 297\n",
      "Name: Paints Price 60 297\n",
      "Name: Socks Price 5 300\n"
     ]
    }
   ],
   "source": [
    "anaShop = OnlineShop()\n",
    "print(\"Inventory Updated:\", anaShop.inventory)\n",
    "anaShop.add_product('Socks',5,100)\n",
    "anaShop.add_product('Socks',50,200)\n",
    "anaShop.add_product('Shoes',35,78)\n",
    "anaShop.add_product('Paints',60,99)\n",
    "print(\"Inventory Updated:\", anaShop.inventory)\n",
    "anaShop.show_inventory()\n",
    "anaShop.search_product('Socks')\n",
    "\n"
   ]
  }
 ],
 "metadata": {
  "kernelspec": {
   "display_name": "Python 3",
   "language": "python",
   "name": "python3"
  },
  "language_info": {
   "codemirror_mode": {
    "name": "ipython",
    "version": 3
   },
   "file_extension": ".py",
   "mimetype": "text/x-python",
   "name": "python",
   "nbconvert_exporter": "python",
   "pygments_lexer": "ipython3",
   "version": "3.13.3"
  }
 },
 "nbformat": 4,
 "nbformat_minor": 5
}
