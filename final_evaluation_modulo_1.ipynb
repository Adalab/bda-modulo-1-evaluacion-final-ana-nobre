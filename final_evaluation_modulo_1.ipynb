{
 "cells": [
  {
   "cell_type": "code",
   "execution_count": null,
   "id": "bfa97718",
   "metadata": {},
   "outputs": [],
   "source": [
    "class OnlineShop:\n",
    " \n",
    " def __init__(self):\n",
    "  inventory = []\n",
    "  total_sales = 0\n",
    "\n",
    " name_1 = \"Shirt\"\n",
    " name_2 = \"Paints\"\n",
    " name_3 = \"Price\"\n",
    " name_4 = \"Quantity\"\n",
    "\n",
    " def inventory(self):\n",
    "  product_1 = [{\"name\": \"Shirt\", \"price\": 20, \"quantity\": 40}]\n",
    "  product_2 = [{\"name\": \"Paints\", \"price\": 30, \"quantity\": 30}]\n",
    "  product_3 = [{\"name\": \"Skirt\", \"price\": 40, \"quantity\": 40}]\n",
    "  product_4 = [{\"name\": \"Sandals\", \"price\": 50, \"quantity\": 30}]\n",
    "\n"
   ]
  },
  {
   "cell_type": "code",
   "execution_count": 3,
   "id": "eef3ff28",
   "metadata": {},
   "outputs": [
    {
     "name": "stdout",
     "output_type": "stream",
     "text": [
      "Welcome to Ana's Shop!\n"
     ]
    }
   ],
   "source": [
    "anaShop = OnlineShop()"
   ]
  },
  {
   "cell_type": "code",
   "execution_count": null,
   "id": "6f32632c",
   "metadata": {},
   "outputs": [],
   "source": [
    " def inventory (self, name, type, price, quantity):\n",
    "  self.name = \"name\"\n",
    "  self.type = \"type\"\n",
    "  self.price = \"price\"\n",
    "  self.quantity = \"quantity\""
   ]
  },
  {
   "cell_type": "code",
   "execution_count": null,
   "id": "8f146b53",
   "metadata": {},
   "outputs": [],
   "source": [
    "  print(inventory)\n",
    "  print(ventas_totales = self.quantity.keys())\n",
    " \n",
    " inventory.keys()\n",
    " inventory.get() "
   ]
  }
 ],
 "metadata": {
  "kernelspec": {
   "display_name": "Python 3",
   "language": "python",
   "name": "python3"
  },
  "language_info": {
   "codemirror_mode": {
    "name": "ipython",
    "version": 3
   },
   "file_extension": ".py",
   "mimetype": "text/x-python",
   "name": "python",
   "nbconvert_exporter": "python",
   "pygments_lexer": "ipython3",
   "version": "3.13.3"
  }
 },
 "nbformat": 4,
 "nbformat_minor": 5
}
