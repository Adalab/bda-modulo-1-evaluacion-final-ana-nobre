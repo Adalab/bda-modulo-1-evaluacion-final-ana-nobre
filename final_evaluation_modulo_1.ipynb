{
 "cells": [
  {
   "cell_type": "code",
   "execution_count": 38,
   "id": "bfa97718",
   "metadata": {},
   "outputs": [],
   "source": [
    "class OnlineShop:\n",
    " def __init__(self):\n",
    "  self.inventory = []\n",
    "  self.total_sales = 0\n",
    "\n",
    " def add_product(self, name, price, quantity):\n",
    "   product = {'name': name, 'price': price, 'quantity': quantity}\n",
    "   self.inventory.append(product)\n",
    "   print(\"Product added in inventory:\", product) \n",
    "\n"
   ]
  },
  {
   "cell_type": "code",
   "execution_count": 41,
   "id": "eef3ff28",
   "metadata": {},
   "outputs": [
    {
     "name": "stdout",
     "output_type": "stream",
     "text": [
      "Product added in inventory: {'name': 'Socks', 'price': 5, 'quantity': 100}\n",
      "Product added in inventory: {'name': 'Shoes', 'price': 35, 'quantity': 78}\n",
      "Product added in inventory: {'name': 'Paints', 'price': 60, 'quantity': 99}\n",
      "Inventory Updated: [{'name': 'Socks', 'price': 5, 'quantity': 100}, {'name': 'Shoes', 'price': 35, 'quantity': 78}, {'name': 'Paints', 'price': 60, 'quantity': 99}]\n"
     ]
    }
   ],
   "source": [
    "anaShop = OnlineShop()\n",
    "anaShop.add_product('Socks',5,100)\n",
    "anaShop.add_product('Shoes',35,78)\n",
    "anaShop.add_product('Paints',60,99)\n",
    "print(\"Inventory Updated:\", anaShop.inventory)"
   ]
  },
  {
   "cell_type": "code",
   "execution_count": null,
   "id": "79481fa8",
   "metadata": {},
   "outputs": [],
   "source": []
  },
  {
   "cell_type": "code",
   "execution_count": null,
   "id": "6f32632c",
   "metadata": {},
   "outputs": [],
   "source": [
    " def inventory (self, name, type, price, quantity):\n",
    "  self.name = \"name\"\n",
    "  self.type = \"type\"\n",
    "  self.price = \"price\"\n",
    "  self.quantity = \"quantity\""
   ]
  },
  {
   "cell_type": "code",
   "execution_count": null,
   "id": "8f146b53",
   "metadata": {},
   "outputs": [],
   "source": [
    "  print(inventory)\n",
    "  print(ventas_totales = self.quantity.keys())\n",
    " \n",
    " inventory.keys()\n",
    " inventory.get() "
   ]
  },
  {
   "cell_type": "code",
   "execution_count": null,
   "id": "7ccfae7b",
   "metadata": {},
   "outputs": [],
   "source": [
    " name_1 = name.\"Shirt\"\n",
    " name_2 = \"Paints\"\n",
    " name_3 = \"Price\"\n",
    " name_4 = \"Quantity\""
   ]
  },
  {
   "cell_type": "code",
   "execution_count": null,
   "id": "59096539",
   "metadata": {},
   "outputs": [],
   "source": [
    " def inventory(self):\n",
    "  product_1 = [{\"name\": \"Shirt\", \"price\": 20, \"quantity\": 40}]\n",
    "  product_2 = [{\"name\": \"Paints\", \"price\": 30, \"quantity\": 30}]\n",
    "  product_3 = [{\"name\": \"Skirt\", \"price\": 40, \"quantity\": 40}]\n",
    "  product_4 = [{\"name\": \"Sandals\", \"price\": 50, \"quantity\": 30}]"
   ]
  }
 ],
 "metadata": {
  "kernelspec": {
   "display_name": "Python 3",
   "language": "python",
   "name": "python3"
  },
  "language_info": {
   "codemirror_mode": {
    "name": "ipython",
    "version": 3
   },
   "file_extension": ".py",
   "mimetype": "text/x-python",
   "name": "python",
   "nbconvert_exporter": "python",
   "pygments_lexer": "ipython3",
   "version": "3.13.3"
  }
 },
 "nbformat": 4,
 "nbformat_minor": 5
}
